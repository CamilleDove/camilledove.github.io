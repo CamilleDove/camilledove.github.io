{
  "nbformat": 4,
  "nbformat_minor": 0,
  "metadata": {
    "colab": {
      "provenance": [],
      "include_colab_link": true
    },
    "kernelspec": {
      "name": "python3",
      "display_name": "Python 3"
    },
    "language_info": {
      "name": "python"
    }
  },
  "cells": [
    {
      "cell_type": "markdown",
      "metadata": {
        "id": "view-in-github",
        "colab_type": "text"
      },
      "source": [
        "<a href=\"https://colab.research.google.com/github/CamilleDove/camilledove.github.io/blob/main/CD_VASR_NN.ipynb\" target=\"_parent\"><img src=\"https://colab.research.google.com/assets/colab-badge.svg\" alt=\"Open In Colab\"/></a>"
      ]
    },
    {
      "cell_type": "code",
      "execution_count": null,
      "metadata": {
        "colab": {
          "base_uri": "https://localhost:8080/",
          "height": 108
        },
        "id": "N_b7JFyX7Kyr",
        "outputId": "c8c9743b-9a9c-4a39-d28e-e1d57a01967a"
      },
      "outputs": [
        {
          "output_type": "error",
          "ename": "SyntaxError",
          "evalue": "invalid syntax (<ipython-input-1-98dfd3e774c4>, line 1)",
          "traceback": [
            "\u001b[0;36m  File \u001b[0;32m\"<ipython-input-1-98dfd3e774c4>\"\u001b[0;36m, line \u001b[0;32m1\u001b[0m\n\u001b[0;31m    b import torch\u001b[0m\n\u001b[0m      ^\u001b[0m\n\u001b[0;31mSyntaxError\u001b[0m\u001b[0;31m:\u001b[0m invalid syntax\n"
          ]
        }
      ],
      "source": [
        " b import torch\n",
        "import numpy as np\n",
        "import matplotlib.pyplot as plt\n",
        "import torch.optim as optim\n",
        "from google.colab import drive\n",
        "import sys\n",
        "\n",
        "drive.mount('/content/drive/')\n",
        "\n",
        "formants = np.load('drive/MyDrive/VASR/formants.npy')\n",
        "DesiredV = np.load('drive/MyDrive/VASR/DesiredV.npy')\n",
        "\n",
        "Inputs = torch.tensor(formants, dtype=torch.float)\n",
        "DesiredOutputs = torch.tensor(DesiredV, dtype=torch.float)\n",
        "\n",
        "model = torch.nn.Sequential(\n",
        "    torch.nn.Linear(2, 4),\n",
        "    torch.nn.Softmax()\n",
        ")\n",
        "\n",
        "loss_fn = torch.nn.CrossEntropyLoss()\n",
        "optimizer = optim.Adam(model.parameters())\n",
        "\n",
        "N = 10000\n",
        "Loss = np.zeros(N)\n",
        "for t in range(N):\n",
        "    ComputedOutputs = model(Inputs)\n",
        "    loss = loss_fn(DesiredOutputs, ComputedOutputs)\n",
        "\n",
        "    optimizer.zero_grad() #Clears Gradient from last step\n",
        "    loss.backward()       #Compute Derivatives\n",
        "    optimizer.step()      #Calculate new weights\n",
        "    Loss[t] = loss.detach().numpy()\n",
        "    print(Loss[t])\n",
        "\n",
        "with torch.no_grad():\n",
        "    ComputedOutputs = model(Inputs)\n",
        "\n",
        "accuracy = 100*(ComputedOutputs.round() == DesiredOutputs).float().mean()\n",
        "print(f\"Accuracy {accuracy}\")\n",
        "\n",
        "plt.plot(Loss)\n",
        "\n",
        "\n"
      ]
    },
    {
      "cell_type": "code",
      "source": [
        "for n in [8,3]:\n",
        "  for m in [2,4,9]:\n",
        "    if m > n:\n",
        "      print(n+m)"
      ],
      "metadata": {
        "colab": {
          "base_uri": "https://localhost:8080/"
        },
        "id": "2JE9W9jvUD6R",
        "outputId": "8f7294d0-3a98-4564-ba73-79dab4651d2c"
      },
      "execution_count": null,
      "outputs": [
        {
          "output_type": "stream",
          "name": "stdout",
          "text": [
            "17\n",
            "7\n",
            "12\n"
          ]
        }
      ]
    }
  ]
}